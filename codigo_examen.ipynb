{
  "nbformat": 4,
  "nbformat_minor": 0,
  "metadata": {
    "colab": {
      "name": "codigo-examen.ipynb",
      "provenance": [],
      "collapsed_sections": [],
      "authorship_tag": "ABX9TyPwsf5idDBO/OVfEgKf2QI4",
      "include_colab_link": true
    },
    "kernelspec": {
      "name": "python3",
      "display_name": "Python 3"
    },
    "language_info": {
      "name": "python"
    }
  },
  "cells": [
    {
      "cell_type": "markdown",
      "metadata": {
        "id": "view-in-github",
        "colab_type": "text"
      },
      "source": [
        "<a href=\"https://colab.research.google.com/github/AldoRhdz/Inteligencia-Artificial/blob/main/codigo_examen.ipynb\" target=\"_parent\"><img src=\"https://colab.research.google.com/assets/colab-badge.svg\" alt=\"Open In Colab\"/></a>"
      ]
    },
    {
      "cell_type": "code",
      "execution_count": 2,
      "metadata": {
        "colab": {
          "base_uri": "https://localhost:8080/"
        },
        "id": "vMOF-SsdXRDW",
        "outputId": "5d0719f1-8c7b-40b7-d108-71b7c3f8feea"
      },
      "outputs": [
        {
          "output_type": "stream",
          "name": "stdout",
          "text": [
            "Ingrese un numero cualquiera: 3\n",
            "La sumatoria de los numeros desde el numero 1 hasta el numero que se ingreso es:  6\n"
          ]
        }
      ],
      "source": [
        "numero_inicial = int(input(\"Ingrese un numero cualquiera: \"))\n",
        "sumatoria = 0\n",
        "for numero in range(numero_inicial):\n",
        "    sumatoria = sumatoria + (numero + 1)\n",
        "\n",
        "\n",
        "print(\"La sumatoria de los numeros desde el numero 1 hasta el numero que se ingreso es: \",sumatoria)"
      ]
    },
    {
      "cell_type": "markdown",
      "source": [
        ""
      ],
      "metadata": {
        "id": "fnWQPpC2Zi0k"
      }
    }
  ]
}